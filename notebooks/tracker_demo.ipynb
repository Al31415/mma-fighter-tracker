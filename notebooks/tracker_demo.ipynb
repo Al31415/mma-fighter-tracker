{
  "cells": [
    {
      "cell_type": "markdown",
      "metadata": {},
      "source": [
        "# MMA Fighter Tracker - Interactive Demo\n",
        "\n",
        "This notebook demonstrates the MMA Fighter Tracker system step by step, showing how to:\n",
        "- Load and visualize video frames\n",
        "- Run the tracker on MMA footage\n",
        "- Analyze tracking results\n",
        "- Visualize fighter trajectories\n",
        "\n",
        "## Prerequisites\n",
        "\n",
        "Make sure you have installed all dependencies:\n",
        "```bash\n",
        "pip install -r requirements.txt\n",
        "```\n"
      ]
    },
    {
      "cell_type": "code",
      "execution_count": null,
      "metadata": {},
      "outputs": [
        {
          "name": "stdout",
          "output_type": "stream",
          "text": [
            "Libraries imported successfully!\n"
          ]
        }
      ],
      "source": [
        "# Import required libraries\n",
        "import cv2\n",
        "import numpy as np\n",
        "import pandas as pd\n",
        "import matplotlib.pyplot as plt\n",
        "import seaborn as sns\n",
        "from pathlib import Path\n",
        "import os\n",
        "import subprocess\n",
        "import torch\n",
        "import warnings\n",
        "warnings.filterwarnings('ignore')\n",
        "\n",
        "# Set up plotting\n",
        "plt.style.use('default')\n",
        "sns.set_palette(\"husl\")\n",
        "\n",
        "print(\"Libraries imported successfully!\")\n"
      ]
    },
    {
      "cell_type": "markdown",
      "metadata": {},
      "source": [
        "## 1. Setup and Video Loading\n",
        "\n",
        "First, let's check if we have the example video and set up our workspace.\n"
      ]
    },
    {
      "cell_type": "code",
      "execution_count": 3,
      "metadata": {},
      "outputs": [
        {
          "name": "stdout",
          "output_type": "stream",
          "text": [
            "Example video found!\n",
            "Video Properties:\n",
            "   Resolution: 1920x1080\n",
            "   FPS: 29.97\n",
            "   Duration: 30.0 seconds\n",
            "   Total frames: 899\n"
          ]
        }
      ],
      "source": [
        "# Check for example video\n",
        "example_video = \"../example_data/UFC_20250803_Dricus_Du_Plessis_vs_Israel_Adesanya_FULL_FIGHT_UFC_319.f616 - chunk_17 [510-540]s.mp4\"\n",
        "\n",
        "if os.path.exists(example_video):\n",
        "    print(\"Example video found!\")\n",
        "    \n",
        "    # Get video properties\n",
        "    cap = cv2.VideoCapture(example_video)\n",
        "    fps = cap.get(cv2.CAP_PROP_FPS)\n",
        "    frame_count = int(cap.get(cv2.CAP_PROP_FRAME_COUNT))\n",
        "    width = int(cap.get(cv2.CAP_PROP_FRAME_WIDTH))\n",
        "    height = int(cap.get(cv2.CAP_PROP_FRAME_HEIGHT))\n",
        "    duration = frame_count / fps\n",
        "    \n",
        "    print(f\"Video Properties:\")\n",
        "    print(f\"   Resolution: {width}x{height}\")\n",
        "    print(f\"   FPS: {fps:.2f}\")\n",
        "    print(f\"   Duration: {duration:.1f} seconds\")\n",
        "    print(f\"   Total frames: {frame_count}\")\n",
        "    \n",
        "    cap.release()\n",
        "else:\n",
        "    print(\"Example video not found!\")\n",
        "    print(\"Please ensure the example video is in the example_data/ directory\")\n"
      ]
    },
    {
      "cell_type": "markdown",
      "metadata": {},
      "source": [
        "## 2. Run the Tracker\n",
        "\n",
        "Now let's run the MMA Fighter Tracker on our video. This will process the video and generate tracking results.\n"
      ]
    },
    {
      "cell_type": "code",
      "execution_count": 5,
      "metadata": {},
      "outputs": [
        {
          "name": "stdout",
          "output_type": "stream",
          "text": [
            "GPU detected! Using CUDA for model inference.\n",
            "Running MMA Fighter Tracker...\n",
            "This may take a few minutes depending on your hardware...\n",
            "Tracker failed!\n",
            "Error: \u001b[32m2025-10-15 23:26:47.266\u001b[0m | MainProcess/MainThread | \u001b[1mINFO    \u001b[0m | \u001b[36mc:\\Users\\alagu\\Miniforge3\\Lib\\site-packages\\boxmot\\trackers\\basetracker.py\u001b[0m:\u001b[36m56\u001b[0m | __init__ - \u001b[1mBaseTracker initialization parameters:\u001b[0m\n",
            "\u001b[32m2025-10-15 23:26:47.267\u001b[0m | MainProcess/MainThread | \u001b[1mINFO    \u001b[0m | \u001b[36mc:\\Users\\alagu\\Miniforge3\\Lib\\site-packages\\boxmot\\trackers\\basetracker.py\u001b[0m:\u001b[36m57\u001b[0m | __init__ - \u001b[1mdet_thresh: 0.3\u001b[0m\n",
            "Traceback (most recent call last):\n",
            "  File \"c:\\Users\\alagu\\OneDrive\\Documents\\GitHub\\mma-fighter-tracker\\src\\tracker.py\", line 410, in <module>\n",
            "\u001b[32m2025-10-15 23:26:47.267\u001b[0m | MainProcess/MainThread | \u001b[1mINFO    \u001b[0m | \u001b[36mc:\\Users\\alagu\\Miniforge3\\Lib\\site-packages\\boxmot\\trackers\\basetracker.py\u001b[0m:\u001b[36m58\u001b[0m | __init__ - \u001b[1mmax_age: 30\u001b[0m\n",
            "\u001b[32m2025-10-15 23:26:47.267\u001b[0m | MainProcess/MainThread | \u001b[1mINFO    \u001b[0m | \u001b[36mc:\\Users\\alagu\\Miniforge3\\Lib\\site-packages\\boxmot\\trackers\\basetracker.py\u001b[0m:\u001b[36m59\u001b[0m | __init__ - \u001b[1mmax_obs: 50\u001b[0m\n",
            "\u001b[32m2025-10-15 23:26:47.267\u001b[0m | MainProcess/MainThread | \u001b[1mINFO    \u001b[0m | \u001b[36mc:\\Users\\alagu\\Miniforge3\\Lib\\site-packages\\boxmot\\trackers\\basetracker.py\u001b[0m:\u001b[36m60\u001b[0m | __init__ - \u001b[1mmin_hits: 3\u001b[0m\n",
            "\u001b[32m2025-10-15 23:26:47.268\u001b[0m | MainProcess/MainThread | \u001b[1mINFO    \u001b[0m | \u001b[36mc:\\Users\\alagu\\Miniforge3\\Lib\\site-packages\\boxmot\\trackers\\basetracker.py\u001b[0m:\u001b[36m61\u001b[0m | __init__ - \u001b[1miou_threshold: 0.3\u001b[0m\n",
            "    run(\n",
            "  File \"c:\\Users\\alagu\\OneDrive\\Documents\\GitHub\\mma-fighter-tracker\\src\\tracker.py\", line 192, in run\n",
            "\u001b[32m2025-10-15 23:26:47.268\u001b[0m | MainProcess/MainThread | \u001b[1mINFO    \u001b[0m | \u001b[36mc:\\Users\\alagu\\Miniforge3\\Lib\\site-packages\\boxmot\\trackers\\basetracker.py\u001b[0m:\u001b[36m62\u001b[0m | __init__ - \u001b[1mper_class: None\u001b[0m\n",
            "\u001b[32m2025-10-15 23:26:47.268\u001b[0m | MainProcess/MainThread | \u001b[1mINFO    \u001b[0m | \u001b[36mc:\\Users\\alagu\\Miniforge3\\Lib\\site-packages\\boxmot\\trackers\\basetracker.py\u001b[0m:\u001b[36m63\u001b[0m | __init__ - \u001b[1mnr_classes: 80\u001b[0m\n",
            "\u001b[32m2025-10-15 23:26:47.268\u001b[0m | MainProcess/MainThread | \u001b[1mINFO    \u001b[0m | \u001b[36mc:\\Users\\alagu\\Miniforge3\\Lib\\site-packages\\boxmot\\trackers\\basetracker.py\u001b[0m:\u001b[36m64\u001b[0m | __init__ - \u001b[1masso_func: iou\u001b[0m\n",
            "    \u001b[32m2025-10-15 23:26:47.268\u001b[0m | MainProcess/MainThread | \u001b[1mINFO    \u001b[0m | \u001b[36mc:\\Users\\alagu\\Miniforge3\\Lib\\site-packages\\boxmot\\trackers\\basetracker.py\u001b[0m:\u001b[36m65\u001b[0m | __init__ - \u001b[1mis_obb: False\u001b[0m\n",
            "tracker = create_tracker(\n",
            "              ^^^^^^^^^^^^^^^\n",
            "  File \"c:\\Users\\alagu\\Miniforge3\\Lib\\site-packages\\boxmot\\tracker_zoo.py\", line 96, in create_tracker\n",
            "    tracker = tracker_class(**tracker_args)\n",
            "              ^^^^^^^^^^^^^^^^^^^^^^^^^^^^^\n",
            "  File \"c:\\Users\\alagu\\Miniforge3\\Lib\\site-packages\\boxmot\\trackers\\botsort\\botsort.py\", line 131, in __init__\n",
            "    self.model = ReidAutoBackend(\n",
            "                 ^^^^^^^^^^^^^^^^\n",
            "  File \"c:\\Users\\alagu\\Miniforge3\\Lib\\site-packages\\boxmot\\appearance\\reid\\auto_backend.py\", line 45, in __init__\n",
            "    self.device = select_device(device)\n",
            "                  ^^^^^^^^^^^^^^^^^^^^^\n",
            "  File \"c:\\Users\\alagu\\Miniforge3\\Lib\\site-packages\\boxmot\\utils\\torch_utils.py\", line 60, in select_device\n",
            "    assert_cuda_available(device)\n",
            "  File \"c:\\Users\\alagu\\Miniforge3\\Lib\\site-packages\\boxmot\\utils\\torch_utils.py\", line 42, in assert_cuda_available\n",
            "    raise ValueError(\n",
            "ValueError: Invalid CUDA 'device=cuda' requested. Use 'device=cpu' or pass valid CUDA device(s) if available, i.e. 'device=0' or 'device=0,1,2,3' for Multi-GPU.\n",
            "\n",
            "torch.cuda.is_available(): True\n",
            "torch.cuda.device_count(): 0\n",
            "os.environ['CUDA_VISIBLE_DEVICES']: cuda\n",
            "See https://pytorch.org/get-started/locally/ for up-to-date torch install instructions if no CUDA devices are seen by torch.\n",
            "\n",
            "\n"
          ]
        }
      ],
      "source": [
        "import torch\n",
        "\n",
        "# Check for GPU availability and print status\n",
        "if torch.cuda.is_available():\n",
        "    device = \"cuda\"\n",
        "    print(\"GPU detected! Using CUDA for model inference.\")\n",
        "else:\n",
        "    device = \"cpu\"\n",
        "    print(\"GPU NOT detected. Running on CPU (tracking may be slower).\")\n",
        "\n",
        "# Set up output directory\n",
        "output_dir = \"../demo_results\"\n",
        "os.makedirs(output_dir, exist_ok=True)\n",
        "\n",
        "# Run the tracker with GPU enabled if available\n",
        "print(\"Running MMA Fighter Tracker...\")\n",
        "print(\"This may take a few minutes depending on your hardware...\")\n",
        "\n",
        "cmd = [\n",
        "    \"python\", \"../src/tracker.py\",\n",
        "    \"--video\", example_video,\n",
        "    \"--outdir\", output_dir,\n",
        "    \"--max-frames\", \"150\",  # Process first 150 frames for demo\n",
        "    \"--stride\", \"5\",        # Process every 5th frame\n",
        "    \"--conf\", \"0.5\",        # Detection confidence threshold\n",
        "    \"--device\", device      # Specify device: 'cuda' if GPU, else 'cpu'\n",
        "]\n",
        "\n",
        "try:\n",
        "    result = subprocess.run(cmd, capture_output=True, text=True, timeout=300)\n",
        "    \n",
        "    if result.returncode == 0:\n",
        "        print(\"Tracker completed successfully!\")\n",
        "        print(\"\\nTracker Output:\")\n",
        "        print(result.stdout)\n",
        "    else:\n",
        "        print(\"Tracker failed!\")\n",
        "        print(\"Error:\", result.stderr)\n",
        "        \n",
        "except subprocess.TimeoutExpired:\n",
        "    print(\"Tracker timed out after 5 minutes\")\n",
        "except Exception as e:\n",
        "    print(f\"Error running tracker: {e}\")\n"
      ]
    },
    {
      "cell_type": "markdown",
      "metadata": {},
      "source": [
        "## 3. Analyze Results\n",
        "\n",
        "Let's load the tracking results and analyze what the system detected.\n"
      ]
    },
    {
      "cell_type": "code",
      "execution_count": null,
      "metadata": {},
      "outputs": [],
      "source": [
        "# Load tracking results\n",
        "tracks_file = os.path.join(output_dir, \"tracks.csv\")\n",
        "\n",
        "if os.path.exists(tracks_file):\n",
        "    df = pd.read_csv(tracks_file)\n",
        "    \n",
        "    print(\"Tracking Results Summary:\")\n",
        "    print(f\"   Total detections: {len(df)}\")\n",
        "    print(f\"   Unique track IDs: {df['track_id'].nunique()}\")\n",
        "    print(f\"   Frame range: {df['frame'].min()} - {df['frame'].max()}\")\n",
        "    \n",
        "    # Track distribution\n",
        "    track_counts = df['track_id'].value_counts().sort_index()\n",
        "    print(\"\\nTrack ID Distribution:\")\n",
        "    for track_id, count in track_counts.items():\n",
        "        print(f\"   Track {track_id}: {count} detections\")\n",
        "    \n",
        "    # Frames with multiple fighters\n",
        "    fighters_per_frame = df.groupby('frame')['track_id'].count()\n",
        "    frames_with_2 = (fighters_per_frame == 2).sum()\n",
        "    frames_with_1 = (fighters_per_frame == 1).sum()\n",
        "    \n",
        "    print(f\"\\nFighter Visibility:\")\n",
        "    print(f\"   Frames with 2 fighters: {frames_with_2}\")\n",
        "    print(f\"   Frames with 1 fighter: {frames_with_1}\")\n",
        "    \n",
        "    # Display first few rows\n",
        "    print(\"\\nSample Data:\")\n",
        "    print(df.head(10))\n",
        "    \n",
        "else:\n",
        "    print(\"No tracking results found!\")\n",
        "    print(\"Make sure the tracker ran successfully.\")\n"
      ]
    }
  ],
  "metadata": {
    "kernelspec": {
      "display_name": "base",
      "language": "python",
      "name": "python3"
    },
    "language_info": {
      "codemirror_mode": {
        "name": "ipython",
        "version": 3
      },
      "file_extension": ".py",
      "mimetype": "text/x-python",
      "name": "python",
      "nbconvert_exporter": "python",
      "pygments_lexer": "ipython3",
      "version": "3.12.11"
    }
  },
  "nbformat": 4,
  "nbformat_minor": 2
}
