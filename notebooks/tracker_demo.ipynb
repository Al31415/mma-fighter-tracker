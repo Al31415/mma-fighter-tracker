{
  "cells": [
    {
      "cell_type": "markdown",
      "metadata": {},
      "source": [
        "# MMA Fighter Tracker - Interactive Demo\n",
        "\n",
        "This notebook demonstrates the MMA Fighter Tracker system step by step, showing how to:\n",
        "- Load and visualize video frames\n",
        "- Run the tracker on MMA footage\n",
        "- Analyze tracking results\n",
        "- Visualize fighter trajectories\n",
        "\n",
        "## Prerequisites\n",
        "\n",
        "Make sure you have installed all dependencies:\n",
        "```bash\n",
        "pip install -r requirements.txt\n",
        "```\n"
      ]
    },
    {
      "cell_type": "code",
      "execution_count": null,
      "metadata": {},
      "outputs": [
        {
          "name": "stdout",
          "output_type": "stream",
          "text": [
            "Libraries imported successfully!\n"
          ]
        }
      ],
      "source": [
        "# Import required libraries\n",
        "import cv2\n",
        "import numpy as np\n",
        "import pandas as pd\n",
        "import matplotlib.pyplot as plt\n",
        "import seaborn as sns\n",
        "from pathlib import Path\n",
        "import os\n",
        "import subprocess\n",
        "import torch\n",
        "import warnings\n",
        "warnings.filterwarnings('ignore')\n",
        "\n",
        "# Set up plotting\n",
        "plt.style.use('default')\n",
        "sns.set_palette(\"husl\")\n",
        "\n",
        "print(\"Libraries imported successfully!\")\n"
      ]
    },
    {
      "cell_type": "markdown",
      "metadata": {},
      "source": [
        "## 1. Setup and Video Loading\n",
        "\n",
        "First, let's check if we have the example video and set up our workspace.\n"
      ]
    },
    {
      "cell_type": "code",
      "execution_count": 3,
      "metadata": {},
      "outputs": [
        {
          "name": "stdout",
          "output_type": "stream",
          "text": [
            "Example video found!\n",
            "Video Properties:\n",
            "   Resolution: 1920x1080\n",
            "   FPS: 29.97\n",
            "   Duration: 30.0 seconds\n",
            "   Total frames: 899\n"
          ]
        }
      ],
      "source": [
        "# Check for example video\n",
        "example_video = \"../example_data/UFC_20250803_Dricus_Du_Plessis_vs_Israel_Adesanya_FULL_FIGHT_UFC_319.f616 - chunk_17 [510-540]s.mp4\"\n",
        "\n",
        "if os.path.exists(example_video):\n",
        "    print(\"Example video found!\")\n",
        "    \n",
        "    # Get video properties\n",
        "    cap = cv2.VideoCapture(example_video)\n",
        "    fps = cap.get(cv2.CAP_PROP_FPS)\n",
        "    frame_count = int(cap.get(cv2.CAP_PROP_FRAME_COUNT))\n",
        "    width = int(cap.get(cv2.CAP_PROP_FRAME_WIDTH))\n",
        "    height = int(cap.get(cv2.CAP_PROP_FRAME_HEIGHT))\n",
        "    duration = frame_count / fps\n",
        "    \n",
        "    print(f\"Video Properties:\")\n",
        "    print(f\"   Resolution: {width}x{height}\")\n",
        "    print(f\"   FPS: {fps:.2f}\")\n",
        "    print(f\"   Duration: {duration:.1f} seconds\")\n",
        "    print(f\"   Total frames: {frame_count}\")\n",
        "    \n",
        "    cap.release()\n",
        "else:\n",
        "    print(\"Example video not found!\")\n",
        "    print(\"Please ensure the example video is in the example_data/ directory\")\n"
      ]
    },
    {
      "cell_type": "markdown",
      "metadata": {},
      "source": [
        "## 2. Run the Tracker\n",
        "\n",
        "Now let's run the MMA Fighter Tracker on our video. This will process the video and generate tracking results.\n"
      ]
    },
    {
      "cell_type": "code",
      "execution_count": 6,
      "metadata": {},
      "outputs": [
        {
          "name": "stdout",
          "output_type": "stream",
          "text": [
            "GPU detected! Using CUDA for model inference.\n",
            "Running MMA Fighter Tracker...\n",
            "This may take a few minutes depending on your hardware...\n",
            "Tracker completed successfully!\n",
            "\n",
            "Tracker Output:\n",
            "Device: cuda\n",
            "Video: 1920x1080 @ 29.97fps, 899 frames\n",
            "Loading YOLOv8-seg...\n",
            "Loading BotSORT tracker...\n",
            "[VIPS-ReID] Loading osnet_x1_0...\n",
            "Successfully loaded imagenet pretrained weights from \"C:\\Users\\alagu/.cache\\torch\\checkpoints\\osnet_x1_0_imagenet.pth\"\n",
            "[VIPS-ReID] OSNet loaded successfully!\n",
            "Config: conf=0.5, iou=0.7, max_persons=3\n",
            "VIPS ReID: ENABLED\n",
            "\n",
            "Processing...\n",
            "  Frame 95: 2 active tracks\n",
            "  Frame 195: 1 active tracks\n",
            "  Frame 295: 3 active tracks\n",
            "  Frame 395: 3 active tracks\n",
            "  Frame 495: 3 active tracks\n",
            "  Frame 595: 3 active tracks\n",
            "  Frame 695: 3 active tracks\n",
            "\n",
            "Done! Processed 150 frames\n",
            "  Video: ../demo_results\\tracked.mp4\n",
            "  CSV: ../demo_results\\tracks.csv\n",
            "  Labels: ../demo_results\\labels\n",
            "\n"
          ]
        }
      ],
      "source": [
        "import torch\n",
        "\n",
        "# Check for GPU availability and print status\n",
        "if torch.cuda.is_available():\n",
        "    device = \"cuda\"\n",
        "    print(\"GPU detected! Using CUDA for model inference.\")\n",
        "else:\n",
        "    device = \"cpu\"\n",
        "    print(\"GPU NOT detected. Running on CPU (tracking may be slower).\")\n",
        "\n",
        "# Set up output directory\n",
        "output_dir = \"../demo_results\"\n",
        "os.makedirs(output_dir, exist_ok=True)\n",
        "\n",
        "# Run the tracker with GPU enabled if available\n",
        "print(\"Running MMA Fighter Tracker...\")\n",
        "print(\"This may take a few minutes depending on your hardware...\")\n",
        "\n",
        "cmd = [\n",
        "    \"python\", \"../src/tracker.py\",\n",
        "    \"--video\", example_video,\n",
        "    \"--outdir\", output_dir,\n",
        "    \"--max-frames\", \"150\",  # Process first 150 frames for demo\n",
        "    \"--stride\", \"5\",        # Process every 5th frame\n",
        "    \"--conf\", \"0.5\",        # Detection confidence threshold\n",
        "    \"--device\", device      # Specify device: 'cuda' if GPU, else 'cpu'\n",
        "]\n",
        "\n",
        "try:\n",
        "    result = subprocess.run(cmd, capture_output=True, text=True, timeout=300)\n",
        "    \n",
        "    if result.returncode == 0:\n",
        "        print(\"Tracker completed successfully!\")\n",
        "        print(\"\\nTracker Output:\")\n",
        "        print(result.stdout)\n",
        "    else:\n",
        "        print(\"Tracker failed!\")\n",
        "        print(\"Error:\", result.stderr)\n",
        "        \n",
        "except subprocess.TimeoutExpired:\n",
        "    print(\"Tracker timed out after 5 minutes\")\n",
        "except Exception as e:\n",
        "    print(f\"Error running tracker: {e}\")\n"
      ]
    },
    {
      "cell_type": "markdown",
      "metadata": {},
      "source": [
        "## 3. Analyze Results\n",
        "\n",
        "Let's load the tracking results and analyze what the system detected.\n"
      ]
    },
    {
      "cell_type": "code",
      "execution_count": 7,
      "metadata": {},
      "outputs": [
        {
          "name": "stdout",
          "output_type": "stream",
          "text": [
            "Tracking Results Summary:\n",
            "   Total detections: 353\n",
            "   Unique track IDs: 7\n",
            "   Frame range: 0 - 745\n",
            "\n",
            "Track ID Distribution:\n",
            "   Track 1: 128 detections\n",
            "   Track 2: 23 detections\n",
            "   Track 3: 80 detections\n",
            "   Track 4: 37 detections\n",
            "   Track 5: 34 detections\n",
            "   Track 7: 13 detections\n",
            "   Track 8: 38 detections\n",
            "\n",
            "Fighter Visibility:\n",
            "   Frames with 2 fighters: 43\n",
            "   Frames with 1 fighter: 27\n",
            "\n",
            "Sample Data:\n",
            "   frame  track_id     x1     y1      x2      y2\n",
            "0      0         1  559.0  256.0  1420.0  1015.0\n",
            "1      5         1  823.0  305.0  1404.0  1034.0\n",
            "2     10         1  748.0  362.0  1366.0  1047.0\n",
            "3     15         1  447.0  334.0  1331.0  1068.0\n",
            "4     20         1  530.0  299.0  1314.0  1064.0\n",
            "5     25         1  415.0  263.0  1292.0  1062.0\n",
            "6     30         1  571.0  243.0  1304.0  1036.0\n",
            "7     35         1  645.0  236.0  1309.0  1035.0\n",
            "8     40         1  676.0  238.0  1379.0  1050.0\n",
            "9     45         1  689.0  241.0  1418.0  1044.0\n"
          ]
        }
      ],
      "source": [
        "# Load tracking results\n",
        "tracks_file = os.path.join(output_dir, \"tracks.csv\")\n",
        "\n",
        "if os.path.exists(tracks_file):\n",
        "    df = pd.read_csv(tracks_file)\n",
        "    \n",
        "    print(\"Tracking Results Summary:\")\n",
        "    print(f\"   Total detections: {len(df)}\")\n",
        "    print(f\"   Unique track IDs: {df['track_id'].nunique()}\")\n",
        "    print(f\"   Frame range: {df['frame'].min()} - {df['frame'].max()}\")\n",
        "    \n",
        "    # Track distribution\n",
        "    track_counts = df['track_id'].value_counts().sort_index()\n",
        "    print(\"\\nTrack ID Distribution:\")\n",
        "    for track_id, count in track_counts.items():\n",
        "        print(f\"   Track {track_id}: {count} detections\")\n",
        "    \n",
        "    # Frames with multiple fighters\n",
        "    fighters_per_frame = df.groupby('frame')['track_id'].count()\n",
        "    frames_with_2 = (fighters_per_frame == 2).sum()\n",
        "    frames_with_1 = (fighters_per_frame == 1).sum()\n",
        "    \n",
        "    print(f\"\\nFighter Visibility:\")\n",
        "    print(f\"   Frames with 2 fighters: {frames_with_2}\")\n",
        "    print(f\"   Frames with 1 fighter: {frames_with_1}\")\n",
        "    \n",
        "    # Display first few rows\n",
        "    print(\"\\nSample Data:\")\n",
        "    print(df.head(10))\n",
        "    \n",
        "else:\n",
        "    print(\"No tracking results found!\")\n",
        "    print(\"Make sure the tracker ran successfully.\")\n"
      ]
    }
  ],
  "metadata": {
    "kernelspec": {
      "display_name": "base",
      "language": "python",
      "name": "python3"
    },
    "language_info": {
      "codemirror_mode": {
        "name": "ipython",
        "version": 3
      },
      "file_extension": ".py",
      "mimetype": "text/x-python",
      "name": "python",
      "nbconvert_exporter": "python",
      "pygments_lexer": "ipython3",
      "version": "3.12.11"
    }
  },
  "nbformat": 4,
  "nbformat_minor": 2
}
